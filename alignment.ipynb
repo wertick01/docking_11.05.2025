{
 "cells": [
  {
   "cell_type": "code",
   "execution_count": 1,
   "metadata": {},
   "outputs": [],
   "source": [
    "from Bio.PDB import PDBParser, Superimposer, PDBIO"
   ]
  },
  {
   "cell_type": "code",
   "execution_count": 43,
   "metadata": {},
   "outputs": [],
   "source": [
    "parser = PDBParser(QUIET=True)\n",
    "reference_structure = parser.get_structure('reference', 'example_complexes/top_2.pdb')\n",
    "new_rbd_structure = parser.get_structure('new_rbd', 'chains/rbd_WT_6w41_C.pdb')\n",
    "new_vhh_structure = parser.get_structure('new_vhh_7', 'chains/vhh_7_by_sabpred_api_new.pdb')"
   ]
  },
  {
   "cell_type": "code",
   "execution_count": 44,
   "metadata": {},
   "outputs": [],
   "source": [
    "reference_rbd = reference_structure[0]['F']\n",
    "reference_vhh = reference_structure[0]['H']\n",
    "new_rbd = new_rbd_structure[0]['C']\n",
    "new_vhh = new_vhh_structure[0]['H']"
   ]
  },
  {
   "cell_type": "code",
   "execution_count": 45,
   "metadata": {},
   "outputs": [],
   "source": [
    "# Извлечение Cα атомов для выравнивания\n",
    "def get_ca_atoms(chain):\n",
    "    ca_atoms = []\n",
    "    for residue in chain:\n",
    "        if 'CA' in residue:\n",
    "            ca_atoms.append(residue['CA'])\n",
    "    return ca_atoms\n",
    "\n",
    "reference_rbd_ca = get_ca_atoms(reference_rbd)\n",
    "new_rbd_ca = get_ca_atoms(new_rbd)\n",
    "reference_vhh_ca = get_ca_atoms(reference_vhh)\n",
    "new_vhh_ca = get_ca_atoms(new_vhh)"
   ]
  },
  {
   "cell_type": "code",
   "execution_count": 46,
   "metadata": {},
   "outputs": [],
   "source": [
    "# Выравнивание нового RBD по старому, используя только общие остатки\n",
    "common_residues_rbd = min(len(reference_rbd_ca), len(new_rbd_ca))\n",
    "superimposer = Superimposer()\n",
    "superimposer.set_atoms(reference_rbd_ca[:common_residues_rbd], new_rbd_ca[:common_residues_rbd])\n",
    "superimposer.apply(new_rbd.get_atoms())"
   ]
  },
  {
   "cell_type": "code",
   "execution_count": 47,
   "metadata": {},
   "outputs": [],
   "source": [
    "# Выравнивание нового VHH по старому, используя только общие остатки\n",
    "common_residues = min(len(reference_vhh_ca), len(new_vhh_ca))\n",
    "superimposer.set_atoms(reference_vhh_ca[:common_residues], new_vhh_ca[:common_residues])\n",
    "superimposer.apply(new_vhh.get_atoms())"
   ]
  },
  {
   "cell_type": "code",
   "execution_count": 48,
   "metadata": {},
   "outputs": [],
   "source": [
    "# Изменение идентификаторов цепей\n",
    "new_rbd.id = 'C'\n",
    "new_vhh.id = 'D'\n",
    "\n",
    "# Создание нового комплекса\n",
    "new_complex = reference_structure.copy()\n",
    "new_complex[0].add(new_rbd)\n",
    "new_complex[0].add(new_vhh)"
   ]
  },
  {
   "cell_type": "code",
   "execution_count": 49,
   "metadata": {},
   "outputs": [],
   "source": [
    "# Удаление старых цепей\n",
    "del new_complex[0]['H']\n",
    "del new_complex[0]['F']"
   ]
  },
  {
   "cell_type": "code",
   "execution_count": 50,
   "metadata": {},
   "outputs": [],
   "source": [
    "new_complex[0]['C'].id = 'C'\n",
    "new_complex[0]['D'].id = 'H'"
   ]
  },
  {
   "cell_type": "code",
   "execution_count": 51,
   "metadata": {},
   "outputs": [],
   "source": [
    "# Сохранение нового комплекса\n",
    "io = PDBIO()\n",
    "io.set_structure(new_complex)\n",
    "io.save('example_complexes/new_complex_3.pdb')"
   ]
  },
  {
   "cell_type": "code",
   "execution_count": null,
   "metadata": {},
   "outputs": [],
   "source": []
  },
  {
   "cell_type": "code",
   "execution_count": 54,
   "metadata": {},
   "outputs": [],
   "source": [
    "def replace_vhh(reference_pdb, new_vhh_pdb, output_pdb, reference_vhh_chain='H', new_vhh_chain='H'):\n",
    "    # Загрузка структур\n",
    "    parser = PDBParser(QUIET=True)\n",
    "    reference_structure = parser.get_structure('reference', reference_pdb)\n",
    "    new_vhh_structure = parser.get_structure('new_vhh', new_vhh_pdb)\n",
    "\n",
    "    # Извлечение цепей\n",
    "    reference_vhh = reference_structure[0][reference_vhh_chain]\n",
    "    new_vhh = new_vhh_structure[0][new_vhh_chain]\n",
    "\n",
    "    # Извлечение Cα атомов для выравнивания\n",
    "    def get_ca_atoms(chain):\n",
    "        ca_atoms = []\n",
    "        for residue in chain:\n",
    "            if 'CA' in residue:\n",
    "                ca_atoms.append(residue['CA'])\n",
    "        return ca_atoms\n",
    "\n",
    "    reference_vhh_ca = get_ca_atoms(reference_vhh)\n",
    "    new_vhh_ca = get_ca_atoms(new_vhh)\n",
    "\n",
    "    # Выравнивание нового VHH по старому, используя только общие остатки\n",
    "    common_residues_vhh = min(len(reference_vhh_ca), len(new_vhh_ca))\n",
    "    superimposer = Superimposer()\n",
    "    superimposer.set_atoms(reference_vhh_ca[:common_residues_vhh], new_vhh_ca[:common_residues_vhh])\n",
    "    superimposer.apply(new_vhh.get_atoms())\n",
    "\n",
    "    # Изменение идентификатора цепи\n",
    "    new_vhh.id = 'C'\n",
    "\n",
    "    # Создание нового комплекса\n",
    "    new_complex = reference_structure.copy()\n",
    "    new_complex[0].add(new_vhh)\n",
    "\n",
    "    # Удаление старой цепи\n",
    "    del new_complex[0][reference_vhh_chain]\n",
    "\n",
    "    # Обратная переименовка цепи\n",
    "    new_complex[0]['C'].id = reference_vhh_chain\n",
    "\n",
    "    # Сохранение нового комплекса\n",
    "    io = PDBIO()\n",
    "    io.set_structure(new_complex)\n",
    "    io.save(output_pdb)"
   ]
  },
  {
   "cell_type": "code",
   "execution_count": 55,
   "metadata": {},
   "outputs": [],
   "source": [
    "replace_vhh('example_complexes/top_2.pdb', 'chains/vhh_7_by_sabpred_api_new.pdb', 'example_complexes/new_complex_4.pdb')"
   ]
  },
  {
   "cell_type": "code",
   "execution_count": 2,
   "metadata": {},
   "outputs": [],
   "source": [
    "def replace_rbd(reference_pdb, new_rbd_pdb, output_pdb, reference_rbd_chain='A', new_rbd_chain='A'):\n",
    "    # Загрузка структур\n",
    "    parser = PDBParser(QUIET=True)\n",
    "    reference_structure = parser.get_structure('reference', reference_pdb)\n",
    "    new_rbd_structure = parser.get_structure('new_rbd', new_rbd_pdb)\n",
    "\n",
    "    # Извлечение цепей\n",
    "    reference_rbd = reference_structure[0][reference_rbd_chain]\n",
    "    new_rbd = new_rbd_structure[0][new_rbd_chain]\n",
    "\n",
    "    # Извлечение Cα атомов для выравнивания\n",
    "    def get_ca_atoms(chain):\n",
    "        ca_atoms = []\n",
    "        for residue in chain:\n",
    "            if 'CA' in residue:\n",
    "                ca_atoms.append(residue['CA'])\n",
    "        return ca_atoms\n",
    "\n",
    "    reference_rbd_ca = get_ca_atoms(reference_rbd)\n",
    "    new_rbd_ca = get_ca_atoms(new_rbd)\n",
    "\n",
    "    # Выравнивание нового RBD по старому, используя только общие остатки\n",
    "    common_residues_rbd = min(len(reference_rbd_ca), len(new_rbd_ca))\n",
    "    superimposer = Superimposer()\n",
    "    superimposer.set_atoms(reference_rbd_ca[:common_residues_rbd], new_rbd_ca[:common_residues_rbd])\n",
    "    superimposer.apply(new_rbd.get_atoms())\n",
    "\n",
    "    # Изменение идентификатора цепи\n",
    "    new_rbd.id = 'X'\n",
    "\n",
    "    # Создание нового комплекса\n",
    "    new_complex = reference_structure.copy()\n",
    "    new_complex[0].add(new_rbd)\n",
    "\n",
    "    # Удаление старой цепи\n",
    "    del new_complex[0][reference_rbd_chain]\n",
    "\n",
    "    # Обратная переименовка цепи\n",
    "    new_complex[0]['X'].id = reference_rbd_chain\n",
    "\n",
    "    # Сохранение нового комплекса\n",
    "    io = PDBIO()\n",
    "    io.set_structure(new_complex)\n",
    "    io.save(output_pdb)"
   ]
  },
  {
   "cell_type": "code",
   "execution_count": 58,
   "metadata": {},
   "outputs": [],
   "source": [
    "replace_rbd('example_complexes/top_2.pdb', 'chains/rbd_BQ.1.1_8fxc_E.pdb', 'example_complexes/new_complex_5.pdb', \"F\", \"E\")"
   ]
  },
  {
   "cell_type": "code",
   "execution_count": 5,
   "metadata": {},
   "outputs": [],
   "source": [
    "import os\n",
    "\n",
    "ref_complex = \"/home/mr-red/Рабочий стол/epitope_mapping/docking_11.05.2025/reference_pdbs/refs/rbd_WU_6vw1_E_vhh_7.pdb\"\n",
    "ref_complex_rbd_ch = \"E\"\n",
    "ref_complex_vhh_ch = \"H\"\n",
    "\n",
    "vhh_name = \"vhh_7\"\n",
    "\n",
    "\n",
    "directory_path = \"/home/mr-red/Рабочий стол/epitope_mapping/docking_11.05.2025/RBDs\"\n",
    "\n",
    "for file in os.listdir(directory_path):\n",
    "    if (\"rbd_\" in file) and (\".pdb\" in file):\n",
    "        splited_filename = file.split(\"_\")\n",
    "        new_rbd_ch = splited_filename[-1].replace(\".pdb\", \"\")\n",
    "\n",
    "        name_prefix = file.replace(\".pdb\", \"\")\n",
    "        output_filename = f\"/home/mr-red/Рабочий стол/epitope_mapping/docking_11.05.2025/reference_pdbs/rbd_vhh7/{name_prefix}_{vhh_name}.pdb\"\n",
    "\n",
    "        replace_rbd(reference_pdb=ref_complex, new_rbd_pdb=f\"{directory_path}/{file}\", output_pdb=output_filename, reference_rbd_chain=ref_complex_rbd_ch, new_rbd_chain=new_rbd_ch)"
   ]
  },
  {
   "cell_type": "code",
   "execution_count": null,
   "metadata": {},
   "outputs": [],
   "source": []
  }
 ],
 "metadata": {
  "kernelspec": {
   "display_name": "haddock3",
   "language": "python",
   "name": "python3"
  },
  "language_info": {
   "codemirror_mode": {
    "name": "ipython",
    "version": 3
   },
   "file_extension": ".py",
   "mimetype": "text/x-python",
   "name": "python",
   "nbconvert_exporter": "python",
   "pygments_lexer": "ipython3",
   "version": "3.9.20"
  }
 },
 "nbformat": 4,
 "nbformat_minor": 2
}
